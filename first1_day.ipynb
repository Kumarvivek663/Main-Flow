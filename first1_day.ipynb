{
 "cells": [
  {
   "cell_type": "code",
   "execution_count": 1,
   "id": "61897a28-2a97-46eb-b04c-279be4ede73f",
   "metadata": {},
   "outputs": [
    {
     "name": "stdout",
     "output_type": "stream",
     "text": [
      "List after adding elements: [1, 2, 3, 4, 5, 6, 4]\n",
      "List after removing elements: [1, 3, 4, 5, 6, 4]\n",
      "List after modifying elements: [1, 10, 4, 5, 6, 4]\n"
     ]
    }
   ],
   "source": [
    "# create a list\n",
    "my_list = [1,2,3,4,5,6]\n",
    "\n",
    "# Add an element\n",
    "my_list.append(4)  # Adding 4 to the list\n",
    "print(\"List after adding elements:\", my_list)\n",
    "\n",
    "# Remove an element\n",
    "my_list.remove(2)  # Removing element 2\n",
    "print(\"List after removing elements:\", my_list)\n",
    "\n",
    "# Modify an element\n",
    "my_list[1] = 10    # Changing the second element from 3 to 10\n",
    "print(\"List after modifying elements:\", my_list)\n"
   ]
  },
  {
   "cell_type": "code",
   "execution_count": 3,
   "id": "e790c4a6-ac2a-48fa-873d-c4aed9d83b46",
   "metadata": {},
   "outputs": [
    {
     "name": "stdout",
     "output_type": "stream",
     "text": [
      "Dict after adding elements: {'name': 'john', 'age': 24, 'city': 'New York'}\n",
      "Dict after removing elements: {'name': 'john', 'city': 'New York'}\n",
      "Dict after modifying elements: {'name': 'vivek', 'city': 'New York'}\n"
     ]
    }
   ],
   "source": [
    "# creating a dictonary\n",
    "my_dict = {'name':'john','age':24,'city':'jaipur'}\n",
    "\n",
    "\n",
    "# Add an element\n",
    "my_dict['city'] = 'New York'  # Adding a new key-value pair\n",
    "print(\"Dict after adding elements:\", my_dict)\n",
    "\n",
    "# Remove an element\n",
    "my_dict.pop('age')  # Removing the key 'age'\n",
    "print(\"Dict after removing elements:\", my_dict)\n",
    "\n",
    "# Modify an element\n",
    "my_dict['name'] = 'vivek'  # Changing the value of 'name'\n",
    "print(\"Dict after modifying elements:\", my_dict)\n"
   ]
  },
  {
   "cell_type": "code",
   "execution_count": 4,
   "id": "20d26f59-e1f6-4a4e-8cf1-2f848c8b46c1",
   "metadata": {},
   "outputs": [
    {
     "name": "stdout",
     "output_type": "stream",
     "text": [
      "Set after adding elements: {1, 2, 3, 4, 5, 6}\n",
      "Set after removing elements: {1, 3, 4, 5, 6}\n",
      "Set after modifying elements: {1, 4, 5, 6}\n"
     ]
    }
   ],
   "source": [
    "# creating a set \n",
    "my_set = {1,2,3,4,5,6}\n",
    "\n",
    "# Add an element\n",
    "my_set.add(4)  # Adding 4 to the set\n",
    "print(\"Set after adding elements:\", my_set)\n",
    "\n",
    "# Remove an element\n",
    "my_set.remove(2)  # Removing 2 from the set\n",
    "print(\"Set after removing elements:\", my_set)\n",
    "\n",
    "# Modify an element (Remove old value and add new value)\n",
    "my_set.remove(3)  # Removing 3\n",
    "my_set.add(5)     # Adding 5\n",
    "print(\"Set after modifying elements:\", my_set)"
   ]
  }
 ],
 "metadata": {
  "kernelspec": {
   "display_name": "Python 3 (ipykernel)",
   "language": "python",
   "name": "python3"
  },
  "language_info": {
   "codemirror_mode": {
    "name": "ipython",
    "version": 3
   },
   "file_extension": ".py",
   "mimetype": "text/x-python",
   "name": "python",
   "nbconvert_exporter": "python",
   "pygments_lexer": "ipython3",
   "version": "3.12.4"
  }
 },
 "nbformat": 4,
 "nbformat_minor": 5
}
